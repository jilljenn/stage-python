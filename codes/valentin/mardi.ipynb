{
 "metadata": {
  "name": "",
  "signature": "sha256:c8b065c4d7435c3dd124a0e3cf28909cedf0b2f80553a474b75f6f4db6773320"
 },
 "nbformat": 3,
 "nbformat_minor": 0,
 "worksheets": [
  {
   "cells": [
    {
     "cell_type": "code",
     "collapsed": false,
     "input": [
      "from random import randint, choice\n",
      "def ia(allumettes):\n",
      "    if allumettes == 2:\n",
      "        return(1)\n",
      "    if allumettes == 3:\n",
      "        return (2)\n",
      "    if allumettes == 4:\n",
      "        return (3)\n",
      "    if allumettes == 6:\n",
      "        return (1)\n",
      "    if allumettes == 7:\n",
      "        return (2)\n",
      "    if allumettes == 8:\n",
      "        return (3)\n",
      "    if allumettes == 11:\n",
      "        return (2)\n",
      "    if allumettes == 12:\n",
      "        return (3)\n",
      "    if allumettes == 13:\n",
      "        return (3)\n",
      "    if allumettes == 15:\n",
      "        return (2)\n",
      "    if allumettes == 16:\n",
      "        return (3)\n",
      "    if allumettes == 17:\n",
      "        return (3)\n",
      "    if allumettes == 18:\n",
      "        return (1)\n",
      "    if allumettes == 19:\n",
      "        return(2)\n",
      "    if allumettes == 20:\n",
      "        return(3)\n",
      "    if allumettes == 21:\n",
      "        return(1)\n",
      "    if allumettes == 14:\n",
      "        return (1)\n",
      "    if allumettes == 10:\n",
      "        return(1)\n",
      "    if allumettes % 2 == 1:\n",
      "        return (2)\n",
      "    else:\n",
      "        return choice([1, 3])\n",
      "    print(allumettes)\n",
      "    \n",
      "   \n",
      "        "
     ],
     "language": "python",
     "metadata": {},
     "outputs": [],
     "prompt_number": 24
    },
    {
     "cell_type": "code",
     "collapsed": false,
     "input": [
      "from random import randint, choice\n",
      "def ia(allumettes):\n",
      "    if allumettes == 4:\n",
      "        return(3)\n",
      "    if allumettes == 5:\n",
      "        return(4)\n",
      "    if allumettes == 6:\n",
      "        return(5)\n",
      "    if allumettes == 7:\n",
      "        return(5)\n",
      "    if allumettes == 8:\n",
      "        return(5)\n",
      "    if allumettes % 2 == 1:\n",
      "        return (5)\n",
      "    if boites[0] >boites[-1]:\n",
      "        return('G')\n",
      "    else:\n",
      "        return choice([1, 3])\n",
      "    print(allumettes)"
     ],
     "language": "python",
     "metadata": {},
     "outputs": [],
     "prompt_number": 28
    },
    {
     "cell_type": "code",
     "collapsed": false,
     "input": [
      "def ia(boites):\n",
      "    if boites[0]== boites[-1]:\n",
      "        return('G')\n",
      "    if boites[0] >boites[1]:\n",
      "        return('G')\n",
      "    if boites[-1] >boites[-2]:\n",
      "        return('D')\n",
      "    if boites[0] >boites[-1]:\n",
      "        return('G')\n",
      "    if boites[-1] >boites[0]: \n",
      "        return('D')\n",
      "    else:\n",
      "        return('G')\n",
      "    print(boites)"
     ],
     "language": "python",
     "metadata": {},
     "outputs": [],
     "prompt_number": 38
    },
    {
     "cell_type": "code",
     "collapsed": false,
     "input": [],
     "language": "python",
     "metadata": {},
     "outputs": [],
     "prompt_number": 38
    },
    {
     "cell_type": "code",
     "collapsed": false,
     "input": [],
     "language": "python",
     "metadata": {},
     "outputs": [],
     "prompt_number": 29
    },
    {
     "cell_type": "code",
     "collapsed": false,
     "input": [],
     "language": "python",
     "metadata": {},
     "outputs": [],
     "prompt_number": 29
    },
    {
     "cell_type": "code",
     "collapsed": false,
     "input": [],
     "language": "python",
     "metadata": {},
     "outputs": [],
     "prompt_number": 29
    },
    {
     "cell_type": "code",
     "collapsed": false,
     "input": [],
     "language": "python",
     "metadata": {},
     "outputs": [],
     "prompt_number": 29
    },
    {
     "cell_type": "code",
     "collapsed": false,
     "input": [],
     "language": "python",
     "metadata": {},
     "outputs": [],
     "prompt_number": 29
    },
    {
     "cell_type": "code",
     "collapsed": false,
     "input": [],
     "language": "python",
     "metadata": {},
     "outputs": [],
     "prompt_number": 29
    },
    {
     "cell_type": "code",
     "collapsed": false,
     "input": [],
     "language": "python",
     "metadata": {},
     "outputs": []
    }
   ],
   "metadata": {}
  }
 ]
}