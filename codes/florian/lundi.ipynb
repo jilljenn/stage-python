{
 "metadata": {
  "name": "",
  "signature": "sha256:a83ef1a848db68b1d3dec612b4f3a528e6d9dd8ddbabb7fafb64fef35ca9c1c5"
 },
 "nbformat": 3,
 "nbformat_minor": 0,
 "worksheets": [
  {
   "cells": [
    {
     "cell_type": "code",
     "collapsed": false,
     "input": [
      "2+2"
     ],
     "language": "python",
     "metadata": {},
     "outputs": [
      {
       "metadata": {},
       "output_type": "pyout",
       "prompt_number": 1,
       "text": [
        "4"
       ]
      }
     ],
     "prompt_number": 1
    },
    {
     "cell_type": "code",
     "collapsed": false,
     "input": [
      "import os"
     ],
     "language": "python",
     "metadata": {},
     "outputs": [],
     "prompt_number": 2
    },
    {
     "cell_type": "code",
     "collapsed": false,
     "input": [
      "os.system('dir')"
     ],
     "language": "python",
     "metadata": {},
     "outputs": [
      {
       "metadata": {},
       "output_type": "pyout",
       "prompt_number": 4,
       "text": [
        "0"
       ]
      }
     ],
     "prompt_number": 4
    },
    {
     "cell_type": "code",
     "collapsed": false,
     "input": [
      "with open('test.txt', 'w') as f:\n",
      "    f.write('coucou')"
     ],
     "language": "python",
     "metadata": {},
     "outputs": [],
     "prompt_number": 5
    },
    {
     "cell_type": "code",
     "collapsed": false,
     "input": [
      "open('test.txt').read().splitlines()"
     ],
     "language": "python",
     "metadata": {},
     "outputs": [
      {
       "metadata": {},
       "output_type": "pyout",
       "prompt_number": 6,
       "text": [
        "['coucou']"
       ]
      }
     ],
     "prompt_number": 6
    },
    {
     "cell_type": "code",
     "collapsed": false,
     "input": [
      "dico = open('dico.txt').read().splitlines()"
     ],
     "language": "python",
     "metadata": {},
     "outputs": [],
     "prompt_number": 7
    },
    {
     "cell_type": "code",
     "collapsed": false,
     "input": [
      "len(dico)"
     ],
     "language": "python",
     "metadata": {},
     "outputs": [
      {
       "metadata": {},
       "output_type": "pyout",
       "prompt_number": 8,
       "text": [
        "336531"
       ]
      }
     ],
     "prompt_number": 8
    },
    {
     "cell_type": "code",
     "collapsed": false,
     "input": [
      "operation = \"+x+xxx+x+\"\n",
      "n = 0\n",
      "for calc in operation:\n",
      "    if calc == '+':\n",
      "        n = n+1\n",
      "    if calc == 'x':\n",
      "        n = n*2\n",
      "print(n)"
     ],
     "language": "python",
     "metadata": {},
     "outputs": [
      {
       "output_type": "stream",
       "stream": "stdout",
       "text": [
        "51\n"
       ]
      }
     ],
     "prompt_number": 9
    },
    {
     "cell_type": "code",
     "collapsed": false,
     "input": [
      "chaine = \"\"\n",
      "n = 89\n",
      "while n > 0:\n",
      "    if n % 2 == 0:\n",
      "        n = n/2\n",
      "        chaine += \"x\"\n",
      "    else:\n",
      "        n = n-1\n",
      "        chaine += \"+\"\n",
      "print (n)\n",
      "print chaine"
     ],
     "language": "python",
     "metadata": {},
     "outputs": [
      {
       "ename": "SyntaxError",
       "evalue": "invalid syntax (<ipython-input-11-984b07a63fb9>, line 11)",
       "output_type": "pyerr",
       "traceback": [
        "\u001b[1;36m  File \u001b[1;32m\"<ipython-input-11-984b07a63fb9>\"\u001b[1;36m, line \u001b[1;32m11\u001b[0m\n\u001b[1;33m    print chaine\u001b[0m\n\u001b[1;37m               ^\u001b[0m\n\u001b[1;31mSyntaxError\u001b[0m\u001b[1;31m:\u001b[0m invalid syntax\n"
       ]
      }
     ],
     "prompt_number": 11
    },
    {
     "cell_type": "code",
     "collapsed": false,
     "input": [
      "dico = open('dico.txt').read().splitlines()"
     ],
     "language": "python",
     "metadata": {},
     "outputs": [],
     "prompt_number": 12
    },
    {
     "cell_type": "code",
     "collapsed": false,
     "input": [
      "n = 0\n",
      "for word in dico:\n",
      "    if word[0] == 'a':\n",
      "        n = n+1\n",
      "print (n)"
     ],
     "language": "python",
     "metadata": {},
     "outputs": [
      {
       "output_type": "stream",
       "stream": "stdout",
       "text": [
        "24295\n"
       ]
      }
     ],
     "prompt_number": 18
    },
    {
     "cell_type": "code",
     "collapsed": false,
     "input": [
      "n = 0\n",
      "for word in dico:\n",
      "    if len(word) == 6:\n",
      "        n = n+1\n",
      "print (n)"
     ],
     "language": "python",
     "metadata": {},
     "outputs": [
      {
       "output_type": "stream",
       "stream": "stdout",
       "text": [
        "12061\n"
       ]
      }
     ],
     "prompt_number": 19
    },
    {
     "cell_type": "code",
     "collapsed": false,
     "input": [
      "compteur = {}\n",
      "compteur[6] = 1\n",
      "compteur[4] = 3\n",
      "print(4 in compteur)\n",
      "print(5 in compteur)"
     ],
     "language": "python",
     "metadata": {},
     "outputs": [
      {
       "output_type": "stream",
       "stream": "stdout",
       "text": [
        "True\n",
        "False\n"
       ]
      }
     ],
     "prompt_number": 23
    },
    {
     "cell_type": "code",
     "collapsed": false,
     "input": [
      "compteur = {i: 0 for i in range(26)}\n",
      "for word in dico:\n",
      "    \"\"\"if len(word) == 1:\n",
      "        compteur[1] += 1\n",
      "    if len(word) == 2:\n",
      "        compteur[2] += 1\n",
      "    if len(word) == 3:\n",
      "        compteur[3] += 1\"\"\"\n",
      "    compteur[len(word)] += 1\n",
      "print (compteur)\n",
      "\n"
     ],
     "language": "python",
     "metadata": {},
     "outputs": [
      {
       "output_type": "stream",
       "stream": "stdout",
       "text": [
        "{0: 0, 1: 2, 2: 78, 3: 397, 4: 1568, 5: 4976, 6: 12061, 7: 22194, 8: 34158, 9: 44814, 10: 50032, 11: 47973, 12: 41355, 13: 30749, 14: 20259, 15: 12298, 16: 6853, 17: 3528, 18: 1756, 19: 802, 20: 382, 21: 170, 22: 82, 23: 28, 24: 13, 25: 3}\n"
       ]
      }
     ],
     "prompt_number": 56
    },
    {
     "cell_type": "code",
     "collapsed": false,
     "input": [
      "compteur = {}\n",
      "for word in dico:\n",
      "    taille = len(word)\n",
      "    if taille in compteur:\n",
      "        compteur[taille] += 1\n",
      "    else:\n",
      "        compteur[taille] = 1\n",
      "print(compteur)"
     ],
     "language": "python",
     "metadata": {},
     "outputs": [
      {
       "output_type": "stream",
       "stream": "stdout",
       "text": [
        "{1: 2, 2: 78, 3: 397, 4: 1568, 5: 4976, 6: 12061, 7: 22194, 8: 34158, 9: 44814, 10: 50032, 11: 47973, 12: 41355, 13: 30749, 14: 20259, 15: 12298, 16: 6853, 17: 3528, 18: 1756, 19: 802, 20: 382, 21: 170, 22: 82, 23: 28, 24: 13, 25: 3}\n"
       ]
      }
     ],
     "prompt_number": 57
    },
    {
     "cell_type": "code",
     "collapsed": false,
     "input": [
      "import json\n",
      "top = json.load(open('top250.json'))"
     ],
     "language": "python",
     "metadata": {},
     "outputs": [],
     "prompt_number": 3
    },
    {
     "cell_type": "code",
     "collapsed": false,
     "input": [
      "top[0]"
     ],
     "language": "python",
     "metadata": {},
     "outputs": [
      {
       "metadata": {},
       "output_type": "pyout",
       "prompt_number": 59,
       "text": [
        "{'actors': ['Tim Robbins', 'Morgan Freeman', 'Bob Gunton'],\n",
        " 'director': 'Frank Darabont',\n",
        " 'year': '1994',\n",
        " 'title': 'Les \u00e9vad\u00e9s',\n",
        " 'imdb': '0111161'}"
       ]
      }
     ],
     "prompt_number": 59
    },
    {
     "cell_type": "code",
     "collapsed": false,
     "input": [
      "top[1]"
     ],
     "language": "python",
     "metadata": {},
     "outputs": [
      {
       "metadata": {},
       "output_type": "pyout",
       "prompt_number": 60,
       "text": [
        "{'actors': ['Marlon Brando', 'Al Pacino', 'James Caan'],\n",
        " 'director': 'Francis Ford Coppola',\n",
        " 'year': '1972',\n",
        " 'title': 'Le parrain',\n",
        " 'imdb': '0068646'}"
       ]
      }
     ],
     "prompt_number": 60
    },
    {
     "cell_type": "code",
     "collapsed": false,
     "input": [
      "top[2]"
     ],
     "language": "python",
     "metadata": {},
     "outputs": [
      {
       "metadata": {},
       "output_type": "pyout",
       "prompt_number": 61,
       "text": [
        "{'actors': ['Al Pacino', 'Robert De Niro', 'Robert Duvall'],\n",
        " 'director': 'Francis Ford Coppola',\n",
        " 'year': '1974',\n",
        " 'title': 'Le parrain, 2\u00e8me partie',\n",
        " 'imdb': '0071562'}"
       ]
      }
     ],
     "prompt_number": 61
    },
    {
     "cell_type": "code",
     "collapsed": false,
     "input": [
      "top[3]"
     ],
     "language": "python",
     "metadata": {},
     "outputs": [
      {
       "metadata": {},
       "output_type": "pyout",
       "prompt_number": 62,
       "text": [
        "{'actors': ['Christian Bale', 'Heath Ledger', 'Aaron Eckhart'],\n",
        " 'director': 'Christopher Nolan',\n",
        " 'year': '2008',\n",
        " 'title': 'The Dark Knight: Le chevalier noir',\n",
        " 'imdb': '0468569'}"
       ]
      }
     ],
     "prompt_number": 62
    },
    {
     "cell_type": "code",
     "collapsed": false,
     "input": [
      "for i in range(10):\n",
      "    print(i+1, top[i]['title'])"
     ],
     "language": "python",
     "metadata": {},
     "outputs": [
      {
       "output_type": "stream",
       "stream": "stdout",
       "text": [
        "1 Les \u00e9vad\u00e9s\n",
        "2 Le parrain\n",
        "3 Le parrain, 2\u00e8me partie\n",
        "4 The Dark Knight: Le chevalier noir\n",
        "5 Pulp Fiction\n",
        "6 Le bon, la brute et le truand\n",
        "7 La liste de Schindler\n",
        "8 12 hommes en col\u00e8re\n",
        "9 Le seigneur des anneaux: Le retour du roi\n",
        "10 Fight Club\n"
       ]
      }
     ],
     "prompt_number": 128
    },
    {
     "cell_type": "code",
     "collapsed": true,
     "input": [
      "for i in range(250):\n",
      "    if \"Lego\" in top[i]['title']:\n",
      "        print(i+1, top[i]['title'])\n",
      "   \n"
     ],
     "language": "python",
     "metadata": {},
     "outputs": [
      {
       "output_type": "stream",
       "stream": "stdout",
       "text": [
        "242 La grande aventure Lego\n"
       ]
      }
     ],
     "prompt_number": 140
    },
    {
     "cell_type": "code",
     "collapsed": false,
     "input": [
      "compteur = {}\n",
      "for film in top:\n",
      "    realisateur = film['director']\n",
      "    if realisateur in compteur:\n",
      "        compteur[realisateur] += 1\n",
      "    else:\n",
      "        compteur[realisateur] = 1\n",
      "for realisateur in sorted(compteur.keys(), key=lambda x: -compteur[x])[:10]:\n",
      "    print(realisateur, compteur[realisateur])"
     ],
     "language": "python",
     "metadata": {},
     "outputs": [
      {
       "output_type": "stream",
       "stream": "stdout",
       "text": [
        "Alfred Hitchcock 9\n",
        "Stanley Kubrick 8\n",
        "Martin Scorsese 7\n",
        "Billy Wilder 6\n",
        "Christopher Nolan 6\n",
        "Hayao Miyazaki 6\n",
        "Steven Spielberg 6\n",
        "Sergio Leone 5\n",
        "Akira Kurosawa 5\n",
        "Charles Chaplin 5\n"
       ]
      }
     ],
     "prompt_number": 75
    },
    {
     "cell_type": "code",
     "collapsed": false,
     "input": [
      "for film in top:\n",
      "    if film['year'] == \"1994\":\n",
      "        print(film['title'])"
     ],
     "language": "python",
     "metadata": {},
     "outputs": [
      {
       "output_type": "stream",
       "stream": "stdout",
       "text": [
        "Les \u00e9vad\u00e9s\n",
        "Pulp Fiction\n",
        "Forrest Gump\n",
        "L\u00e9on\n",
        "Le roi lion\n",
        "Trois couleurs: Rouge\n"
       ]
      }
     ],
     "prompt_number": 45
    },
    {
     "cell_type": "code",
     "collapsed": false,
     "input": [
      "for film in top:\n",
      "    if film['title'] == \"Inception\":\n",
      "        print(film['actors'])"
     ],
     "language": "python",
     "metadata": {},
     "outputs": [
      {
       "output_type": "stream",
       "stream": "stdout",
       "text": [
        "['Leonardo DiCaprio', 'Joseph Gordon-Levitt', 'Ellen Page']\n"
       ]
      }
     ],
     "prompt_number": 47
    },
    {
     "cell_type": "code",
     "collapsed": false,
     "input": [
      "for film in top:\n",
      "    if film['director'] == \"Christopher Nolan\":\n",
      "        print(film['title'])"
     ],
     "language": "python",
     "metadata": {},
     "outputs": [
      {
       "output_type": "stream",
       "stream": "stdout",
       "text": [
        "The Dark Knight: Le chevalier noir\n",
        "Inception\n",
        "Memento\n",
        "The Dark Knight Rises\n",
        "Le prestige\n",
        "Batman Begins\n"
       ]
      }
     ],
     "prompt_number": 48
    },
    {
     "cell_type": "code",
     "collapsed": false,
     "input": [
      "for film in top:\n",
      "    if \"Natalie Portman\" in film['actors']:\n",
      "        print(film['title'])"
     ],
     "language": "python",
     "metadata": {},
     "outputs": [
      {
       "output_type": "stream",
       "stream": "stdout",
       "text": [
        "L\u00e9on\n",
        "V pour vendetta\n",
        "Black Swan\n"
       ]
      }
     ],
     "prompt_number": 56
    },
    {
     "cell_type": "code",
     "collapsed": false,
     "input": [
      "compteur = {}\n",
      "for film in top:\n",
      "        movie = film['year']\n",
      "        if movie in compteur:\n",
      "            compteur[movie] += 1\n",
      "        else:\n",
      "            compteur[movie] = 1\n",
      "\n",
      "for movie in sorted(compteur.keys(), key=lambda x: -compteur[x])[:10]:\n",
      "            print(movie, compteur[movie])\n",
      "    "
     ],
     "language": "python",
     "metadata": {},
     "outputs": [
      {
       "output_type": "stream",
       "stream": "stdout",
       "text": [
        "1995 10\n",
        "2010 8\n",
        "2001 7\n",
        "2003 6\n",
        "1998 6\n",
        "2000 6\n",
        "1994 6\n",
        "2009 6\n",
        "1957 6\n",
        "2004 6\n"
       ]
      }
     ],
     "prompt_number": 68
    },
    {
     "cell_type": "code",
     "collapsed": false,
     "input": [
      "compteur = {}\n",
      "for film in top:\n",
      "    for acteur in film['actors']:\n",
      "        if acteur in compteur:\n",
      "            compteur[acteur] += 1\n",
      "        else:\n",
      "            compteur[acteur] = 1\n",
      "\n",
      "for acteur in sorted(compteur.keys(), key=lambda x: -compteur[x])[:10]:\n",
      "        print(acteur, compteur[acteur])\n",
      "    "
     ],
     "language": "python",
     "metadata": {},
     "outputs": [
      {
       "output_type": "stream",
       "stream": "stdout",
       "text": [
        "Robert De Niro 8\n",
        "Clint Eastwood 6\n",
        "Harrison Ford 6\n",
        "James Stewart 5\n",
        "Brad Pitt 5\n",
        "Leonardo DiCaprio 5\n",
        "Tom Hanks 5\n",
        "Charles Chaplin 5\n",
        "Al Pacino 5\n",
        "Jack Nicholson 4\n"
       ]
      }
     ],
     "prompt_number": 78
    },
    {
     "cell_type": "code",
     "collapsed": false,
     "input": [
      "def f(x):\n",
      "    if x % 2 == 0:\n",
      "        return x//2\n",
      "    else:\n",
      "        return 3*x+1"
     ],
     "language": "python",
     "metadata": {},
     "outputs": [],
     "prompt_number": 87
    },
    {
     "cell_type": "code",
     "collapsed": false,
     "input": [
      "f(3)"
     ],
     "language": "python",
     "metadata": {},
     "outputs": [
      {
       "metadata": {},
       "output_type": "pyout",
       "prompt_number": 88,
       "text": [
        "10"
       ]
      }
     ],
     "prompt_number": 88
    },
    {
     "cell_type": "code",
     "collapsed": false,
     "input": [
      "f(4)"
     ],
     "language": "python",
     "metadata": {},
     "outputs": [
      {
       "metadata": {},
       "output_type": "pyout",
       "prompt_number": 89,
       "text": [
        "2"
       ]
      }
     ],
     "prompt_number": 89
    },
    {
     "cell_type": "code",
     "collapsed": false,
     "input": [],
     "language": "python",
     "metadata": {},
     "outputs": []
    }
   ],
   "metadata": {}
  }
 ]
}