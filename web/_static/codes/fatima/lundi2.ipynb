{
 "metadata": {
  "name": "",
  "signature": "sha256:6806ed6e77ad8382ddfd735cef686a47899b9a63322da5006eee6586f4587cd3"
 },
 "nbformat": 3,
 "nbformat_minor": 0,
 "worksheets": [
  {
   "cells": [
    {
     "cell_type": "code",
     "collapsed": false,
     "input": [
      "dico = open(\"dico.txt\").read().splitlines()"
     ],
     "language": "python",
     "metadata": {},
     "outputs": [],
     "prompt_number": 1
    },
    {
     "cell_type": "code",
     "collapsed": false,
     "input": [
      "len(dico)"
     ],
     "language": "python",
     "metadata": {},
     "outputs": [
      {
       "metadata": {},
       "output_type": "pyout",
       "prompt_number": 2,
       "text": [
        "336531"
       ]
      }
     ],
     "prompt_number": 2
    },
    {
     "cell_type": "code",
     "collapsed": false,
     "input": [
      "dico []"
     ],
     "language": "python",
     "metadata": {},
     "outputs": [
      {
       "ename": "SyntaxError",
       "evalue": "invalid syntax (<ipython-input-4-0c3e674af25d>, line 1)",
       "output_type": "pyerr",
       "traceback": [
        "\u001b[1;36m  File \u001b[1;32m\"<ipython-input-4-0c3e674af25d>\"\u001b[1;36m, line \u001b[1;32m1\u001b[0m\n\u001b[1;33m    dico []\u001b[0m\n\u001b[1;37m          ^\u001b[0m\n\u001b[1;31mSyntaxError\u001b[0m\u001b[1;31m:\u001b[0m invalid syntax\n"
       ]
      }
     ],
     "prompt_number": 4
    },
    {
     "cell_type": "code",
     "collapsed": false,
     "input": [
      "dicofr = open(\"dico.txt\").read().lower().splitlines()\n",
      "\n",
      "for mot in dicofr: \n",
      "    if mot[0] not in d:\n",
      "        d[mot[0]] = 0\n",
      "    d[mot[0]] += 1\n",
      "        \n",
      "for k, v in d.items():\n",
      "    print(k, v)"
     ],
     "language": "python",
     "metadata": {},
     "outputs": [
      {
       "output_type": "stream",
       "stream": "stdout",
       "text": [
        "('\\xc3', 13951)\n",
        "('a', 24298)\n",
        "('c', 34208)\n",
        "('b', 15106)\n",
        "('e', 21055)\n",
        "('d', 40494)\n",
        "('g', 10190)\n",
        "('f', 12485)\n",
        "('i', 11699)\n",
        "('h', 5841)\n",
        "('k', 491)\n",
        "('j', 2398)\n",
        "('m', 16292)\n",
        "('l', 7077)\n",
        "('o', 5333)\n",
        "('n', 3889)\n",
        "('q', 1131)\n",
        "('p', 27075)\n",
        "('s', 22364)\n",
        "('r', 35831)\n",
        "('u', 991)\n",
        "('t', 15972)\n",
        "('w', 192)\n",
        "('v', 7217)\n",
        "('y', 92)\n",
        "('x', 63)\n",
        "('z', 796)\n"
       ]
      }
     ],
     "prompt_number": 29
    },
    {
     "cell_type": "code",
     "collapsed": false,
     "input": [
      "dicofr = open(\"dico.txt\").read().lower().splitlines()\n",
      "nbr_de_lettre = 2\n",
      "n = 0\n",
      "for mot in dico:\n",
      "    if len(mot) == nbr_de_lettre:\n",
      "        n=n+1\n",
      "        print(mot) \n",
      "print(n)        \n"
     ],
     "language": "python",
     "metadata": {},
     "outputs": [
      {
       "output_type": "stream",
       "stream": "stdout",
       "text": [
        "\u00e0\n",
        "ah\n",
        "ai\n",
        "an\n",
        "as\n",
        "au\n",
        "bu\n",
        "cc\n",
        "ce\n",
        "cf\n",
        "cg\n",
        "ch\n",
        "ci\n",
        "cl\n",
        "cm\n",
        "de\n",
        "dg\n",
        "dl\n",
        "dm\n",
        "do\n",
        "du\n",
        "eh\n",
        "en\n",
        "es\n",
        "et\n",
        "eu\n",
        "ex\n",
        "fa\n",
        "fi\n",
        "go\n",
        "ha\n",
        "hi\n",
        "ho\n",
        "if\n",
        "il\n",
        "in\n",
        "je\n",
        "kg\n",
        "km\n",
        "la\n",
        "le\n",
        "li\n",
        "lu\n",
        "ma\n",
        "me\n",
        "mg\n",
        "mi\n",
        "ms\n",
        "mu\n",
        "na\n",
        "ne\n",
        "ni\n",
        "nu\n",
        "oc\n",
        "oh\n",
        "on\n",
        "or\n",
        "os\n",
        "ou\n",
        "ph\n",
        "pi\n",
        "pu\n",
        "ra\n",
        "ri"
       ]
      },
      {
       "output_type": "stream",
       "stream": "stdout",
       "text": [
        "\n",
        "ru\n",
        "sa\n",
        "se\n",
        "si\n",
        "su\n",
        "ta\n",
        "te\n",
        "tu\n",
        "un\n",
        "us\n",
        "ut\n",
        "va\n",
        "vu\n",
        "xi\n",
        "78\n"
       ]
      }
     ],
     "prompt_number": 43
    },
    {
     "cell_type": "code",
     "collapsed": false,
     "input": [
      "import json\n",
      "top = json.load(open('top250.json'))\n"
     ],
     "language": "python",
     "metadata": {},
     "outputs": [],
     "prompt_number": 44
    },
    {
     "cell_type": "code",
     "collapsed": false,
     "input": [
      "len(top)"
     ],
     "language": "python",
     "metadata": {},
     "outputs": [
      {
       "metadata": {},
       "output_type": "pyout",
       "prompt_number": 45,
       "text": [
        "250"
       ]
      }
     ],
     "prompt_number": 45
    },
    {
     "cell_type": "code",
     "collapsed": false,
     "input": [
      "top[0]"
     ],
     "language": "python",
     "metadata": {},
     "outputs": [
      {
       "metadata": {},
       "output_type": "pyout",
       "prompt_number": 46,
       "text": [
        "{u'actors': [u'Tim Robbins', u'Morgan Freeman', u'Bob Gunton'],\n",
        " u'director': u'Frank Darabont',\n",
        " u'imdb': u'0111161',\n",
        " u'title': u'Les \\xe9vad\\xe9s',\n",
        " u'year': u'1994'}"
       ]
      }
     ],
     "prompt_number": 46
    },
    {
     "cell_type": "code",
     "collapsed": false,
     "input": [
      "top[10]"
     ],
     "language": "python",
     "metadata": {},
     "outputs": [
      {
       "metadata": {},
       "output_type": "pyout",
       "prompt_number": 47,
       "text": [
        "{u'actors': [u'Elijah Wood', u'Ian McKellen', u'Orlando Bloom'],\n",
        " u'director': u'Peter Jackson',\n",
        " u'imdb': u'0120737',\n",
        " u'title': u\"Le seigneur des anneaux: La communaut\\xe9 de l'anneau\",\n",
        " u'year': u'2001'}"
       ]
      }
     ],
     "prompt_number": 47
    },
    {
     "cell_type": "code",
     "collapsed": false,
     "input": [
      "   "
     ],
     "language": "python",
     "metadata": {},
     "outputs": [
      {
       "ename": "TypeError",
       "evalue": "'list' object is not callable",
       "output_type": "pyerr",
       "traceback": [
        "\u001b[1;31m---------------------------------------------------------------------------\u001b[0m\n\u001b[1;31mTypeError\u001b[0m                                 Traceback (most recent call last)",
        "\u001b[1;32m<ipython-input-49-bd2f0dc3ffa7>\u001b[0m in \u001b[0;36m<module>\u001b[1;34m()\u001b[0m\n\u001b[1;32m----> 1\u001b[1;33m \u001b[0mtop\u001b[0m \u001b[1;33m(\u001b[0m\u001b[1;36m0\u001b[0m\u001b[1;33m,\u001b[0m\u001b[1;36m1\u001b[0m\u001b[1;33m,\u001b[0m\u001b[1;36m2\u001b[0m\u001b[1;33m,\u001b[0m\u001b[1;36m3\u001b[0m\u001b[1;33m,\u001b[0m\u001b[1;36m4\u001b[0m\u001b[1;33m,\u001b[0m\u001b[1;36m5\u001b[0m\u001b[1;33m,\u001b[0m\u001b[1;36m6\u001b[0m\u001b[1;33m,\u001b[0m\u001b[1;36m7\u001b[0m\u001b[1;33m,\u001b[0m\u001b[1;36m8\u001b[0m\u001b[1;33m,\u001b[0m\u001b[1;36m9\u001b[0m\u001b[1;33m,\u001b[0m\u001b[1;36m10\u001b[0m\u001b[1;33m)\u001b[0m\u001b[1;33m\u001b[0m\u001b[0m\n\u001b[0m",
        "\u001b[1;31mTypeError\u001b[0m: 'list' object is not callable"
       ]
      }
     ],
     "prompt_number": 49
    },
    {
     "cell_type": "code",
     "collapsed": false,
     "input": [],
     "language": "python",
     "metadata": {},
     "outputs": []
    }
   ],
   "metadata": {}
  }
 ]
}