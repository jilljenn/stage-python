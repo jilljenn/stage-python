{
 "metadata": {
  "name": "",
  "signature": "sha256:3d1d4cbb453235930612177669cb653f77dd4cdb585a04455ad7fcbf200e133e"
 },
 "nbformat": 3,
 "nbformat_minor": 0,
 "worksheets": [
  {
   "cells": [
    {
     "cell_type": "code",
     "collapsed": false,
     "input": [
      "def char_to_int(char):\n",
      "    return ord(char)-ord(\"A\")\n",
      "char_to_int(\"A\")"
     ],
     "language": "python",
     "metadata": {},
     "outputs": [
      {
       "metadata": {},
       "output_type": "pyout",
       "prompt_number": 9,
       "text": [
        "0"
       ]
      }
     ],
     "prompt_number": 9
    },
    {
     "cell_type": "code",
     "collapsed": false,
     "input": [
      "def char_to_int(char):\n",
      "    return ord(char)-ord(\"A\")\n",
      "for char in \"ABCDEFGHIJKLMNOPQRSTUVWXYZ\":\n",
      "    print(char_to_int(char))"
     ],
     "language": "python",
     "metadata": {},
     "outputs": [
      {
       "output_type": "stream",
       "stream": "stdout",
       "text": [
        "0\n",
        "1\n",
        "2\n",
        "3\n",
        "4\n",
        "5\n",
        "6\n",
        "7\n",
        "8\n",
        "9\n",
        "10\n",
        "11\n",
        "12\n",
        "13\n",
        "14\n",
        "15\n",
        "16\n",
        "17\n",
        "18\n",
        "19\n",
        "20\n",
        "21\n",
        "22\n",
        "23\n",
        "24\n",
        "25\n"
       ]
      }
     ],
     "prompt_number": 12
    },
    {
     "cell_type": "code",
     "collapsed": false,
     "input": [
      "def cesar(string, key):\n",
      "    return ord(char)-ord(\"A\")\n",
      "for char in \"ABCDEFGHIJKLMNOPQRSTUVWXYZ\":\n",
      "    print(char_to_int(char))"
     ],
     "language": "python",
     "metadata": {},
     "outputs": [
      {
       "output_type": "stream",
       "stream": "stdout",
       "text": [
        "0\n",
        "1\n",
        "2\n",
        "3\n",
        "4\n",
        "5\n",
        "6\n",
        "7\n",
        "8\n",
        "9\n",
        "10\n",
        "11\n",
        "12\n",
        "13\n",
        "14\n",
        "15\n",
        "16\n",
        "17\n",
        "18\n",
        "19\n",
        "20\n",
        "21\n",
        "22\n",
        "23\n",
        "24\n",
        "25\n"
       ]
      }
     ],
     "prompt_number": 15
    },
    {
     "cell_type": "code",
     "collapsed": false,
     "input": [
      "def int_to_char(nb):\n",
      "    return chr(nb+ord(\"A\"))\n",
      "for char in (1, 2, 3, 4, 5):\n",
      "    print(int_to_char(char), end=\"\")"
     ],
     "language": "python",
     "metadata": {},
     "outputs": [
      {
       "output_type": "stream",
       "stream": "stdout",
       "text": [
        "BCDEF"
       ]
      }
     ],
     "prompt_number": 34
    },
    {
     "cell_type": "code",
     "collapsed": false,
     "input": [
      "cesar(\"TOTO\", 1)"
     ],
     "language": "python",
     "metadata": {},
     "outputs": [
      {
       "metadata": {},
       "output_type": "pyout",
       "prompt_number": 58,
       "text": [
        "25"
       ]
      }
     ],
     "prompt_number": 58
    },
    {
     "cell_type": "code",
     "collapsed": false,
     "input": [
      "def cesar(string, key):\n",
      "    for char in string:\n",
      "        print(char_to_int(char))"
     ],
     "language": "python",
     "metadata": {},
     "outputs": [],
     "prompt_number": 38
    },
    {
     "cell_type": "code",
     "collapsed": false,
     "input": [
      "cesar(\"TOTO\", 1)"
     ],
     "language": "python",
     "metadata": {},
     "outputs": [
      {
       "metadata": {},
       "output_type": "pyout",
       "prompt_number": 57,
       "text": [
        "25"
       ]
      }
     ],
     "prompt_number": 57
    },
    {
     "cell_type": "code",
     "collapsed": false,
     "input": [
      "def char_to_int(char):\n",
      "    return ord(char)-ord(\"A\")\n",
      "\n",
      "def int_to_char(nb):\n",
      "    return chr(nb + ord(\"A\"))\n",
      "\n",
      "def cesar(string, key):\n",
      "    for char in string:\n",
      "        nb = (char_to_int(char) + key) % 26\n",
      "        code = int_to_char(nb)\n",
      "        if char in \"AZERTYUIOPQSDFGHJKLMWXCVBN\":\n",
      "            print(code, end=\"\")\n",
      "        else:\n",
      "            print(char, end=\"\")"
     ],
     "language": "python",
     "metadata": {},
     "outputs": [],
     "prompt_number": 122
    },
    {
     "cell_type": "code",
     "collapsed": false,
     "input": [
      "for i in range(26):\n",
      "    cesar(\"WBLRHK ABRY\", i)\n",
      "    print()\n"
     ],
     "language": "python",
     "metadata": {},
     "outputs": [
      {
       "output_type": "stream",
       "stream": "stdout",
       "text": [
        "WBLRHK ABRY\n",
        "XCMSIL BCSZ\n",
        "YDNTJM CDTA\n",
        "ZEOUKN DEUB\n",
        "AFPVLO EFVC\n",
        "BGQWMP FGWD\n",
        "CHRXNQ GHXE\n",
        "DISYOR HIYF\n",
        "EJTZPS IJZG\n",
        "FKUAQT JKAH\n",
        "GLVBRU KLBI\n",
        "HMWCSV LMCJ\n",
        "INXDTW MNDK\n",
        "JOYEUX NOEL\n",
        "KPZFVY OPFM\n",
        "LQAGWZ PQGN\n",
        "MRBHXA QRHO\n",
        "NSCIYB RSIP\n",
        "OTDJZC STJQ\n",
        "PUEKAD TUKR\n",
        "QVFLBE UVLS\n",
        "RWGMCF VWMT\n",
        "SXHNDG WXNU\n",
        "TYIOEH XYOV\n",
        "UZJPFI YZPW\n",
        "VAKQGJ ZAQX\n"
       ]
      }
     ],
     "prompt_number": 136
    },
    {
     "cell_type": "heading",
     "level": 3,
     "metadata": {},
     "source": []
    },
    {
     "cell_type": "code",
     "collapsed": false,
     "input": [
      "def char_to_int(char):\n",
      "    return ord(char)-ord(\"A\")\n",
      "\n",
      "def int_to_char(nb):\n",
      "    return chr(nb + ord(\"A\"))\n",
      "\n",
      "def cesar(string, key):\n",
      "    for char in string:\n",
      "        nb = (char_to_int(char) + key) % 26\n",
      "        code = int_to_char(nb)\n",
      "        if char in \"AZERTYUIOPQSDFGHJKLMWXCVBN\":\n",
      "            print(code, end=\"\")\n",
      "        else:\n",
      "            print(char, end=\"\")\n",
      "            \n",
      "def vigenere(string, key):\n",
      "    for i in range(len(string)):\n",
      "        nb = (char_to_int(string[i]) + char_to_int(key[i % len(key)])) % 26\n",
      "        code = int_to_char(nb)\n",
      "        if char in \"AZERTYUIOPQSDFGHJKLMWXCVBN\":\n",
      "            print(code, end=\"\")\n",
      "        else:\n",
      "            print(char, end=\"\")\n",
      "            \n",
      "vigenere(\"COUCOU\", \"ABC\")"
     ],
     "language": "python",
     "metadata": {},
     "outputs": [
      {
       "output_type": "stream",
       "stream": "stdout",
       "text": [
        "CPWCPW"
       ]
      }
     ],
     "prompt_number": 149
    },
    {
     "cell_type": "code",
     "collapsed": false,
     "input": [
      "def substitution(string, key):\n",
      "    for char in string:\n",
      "        if char in \"AZERTYUIOPQSDFGHJKLMWXCVBN\":\n",
      "            print(key[char_to_int(char)], end=\"\")\n",
      "        else:\n",
      "            print(char, end=\"\")\n",
      "            \n",
      "substitution(\"JOYEUX NOEL DANIELLE SOFIA\", \"ZYXWVUTSRQPONMLKJIHGFEDCBA\")"
     ],
     "language": "python",
     "metadata": {},
     "outputs": [
      {
       "output_type": "stream",
       "stream": "stdout",
       "text": [
        "QLBVFC MLVO WZMRVOOV HLURZ"
       ]
      }
     ],
     "prompt_number": 180
    },
    {
     "cell_type": "code",
     "collapsed": false,
     "input": [],
     "language": "python",
     "metadata": {},
     "outputs": [
      {
       "ename": "SyntaxError",
       "evalue": "invalid syntax (<ipython-input-172-5c73ead989de>, line 1)",
       "output_type": "pyerr",
       "traceback": [
        "\u001b[1;36m  File \u001b[1;32m\"<ipython-input-172-5c73ead989de>\"\u001b[1;36m, line \u001b[1;32m1\u001b[0m\n\u001b[1;33m    def subtitution:\u001b[0m\n\u001b[1;37m                   ^\u001b[0m\n\u001b[1;31mSyntaxError\u001b[0m\u001b[1;31m:\u001b[0m invalid syntax\n"
       ]
      }
     ],
     "prompt_number": 172
    },
    {
     "cell_type": "code",
     "collapsed": false,
     "input": [],
     "language": "python",
     "metadata": {},
     "outputs": [],
     "prompt_number": 172
    },
    {
     "cell_type": "code",
     "collapsed": false,
     "input": [],
     "language": "python",
     "metadata": {},
     "outputs": [],
     "prompt_number": 172
    },
    {
     "cell_type": "code",
     "collapsed": false,
     "input": [],
     "language": "python",
     "metadata": {},
     "outputs": [],
     "prompt_number": 172
    },
    {
     "cell_type": "code",
     "collapsed": false,
     "input": [],
     "language": "python",
     "metadata": {},
     "outputs": [],
     "prompt_number": 141
    },
    {
     "cell_type": "code",
     "collapsed": false,
     "input": [],
     "language": "python",
     "metadata": {},
     "outputs": [],
     "prompt_number": 141
    },
    {
     "cell_type": "code",
     "collapsed": false,
     "input": [],
     "language": "python",
     "metadata": {},
     "outputs": [],
     "prompt_number": 141
    },
    {
     "cell_type": "code",
     "collapsed": false,
     "input": [],
     "language": "python",
     "metadata": {},
     "outputs": [],
     "prompt_number": 141
    },
    {
     "cell_type": "code",
     "collapsed": false,
     "input": [],
     "language": "python",
     "metadata": {},
     "outputs": [],
     "prompt_number": 141
    },
    {
     "cell_type": "code",
     "collapsed": false,
     "input": [],
     "language": "python",
     "metadata": {},
     "outputs": [],
     "prompt_number": 141
    },
    {
     "cell_type": "code",
     "collapsed": false,
     "input": [],
     "language": "python",
     "metadata": {},
     "outputs": [],
     "prompt_number": 141
    },
    {
     "cell_type": "code",
     "collapsed": false,
     "input": [],
     "language": "python",
     "metadata": {},
     "outputs": []
    }
   ],
   "metadata": {}
  }
 ]
}