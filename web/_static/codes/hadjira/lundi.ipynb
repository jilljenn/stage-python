{
 "metadata": {
  "name": "",
  "signature": "sha256:4d1c57dd3e90d1383841683986c324ee3655d6d3c6c4910db73a38e3f992ff78"
 },
 "nbformat": 3,
 "nbformat_minor": 0,
 "worksheets": [
  {
   "cells": [
    {
     "cell_type": "code",
     "collapsed": false,
     "input": [
      "nb = 0\n",
      "chaine = \"+++***+*+\"\n",
      "for i in range(len(chaine)):\n",
      "    if chaine[i] == \"+\":\n",
      "        nb = nb + 1\n",
      "    if chaine[i] == \"*\":\n",
      "        nb = nb * 2\n",
      "print(nb)\n",
      "    \n"
     ],
     "language": "python",
     "metadata": {},
     "outputs": [
      {
       "output_type": "stream",
       "stream": "stdout",
       "text": [
        "51\n"
       ]
      }
     ],
     "prompt_number": 58
    },
    {
     "cell_type": "code",
     "collapsed": false,
     "input": [
      "nb = 51\n",
      "if (nb%2==0):\n",
      "    print(\"ce nombre est pair\")\n",
      "else:\n",
      "    print(\"ce nombre est impair\")\n",
      "while(nb != 0):\n",
      "    if nb % 2 == 0:\n",
      "        nb = nb / 2\n",
      "        chaine = \"x\"+chaine\n",
      "    else:\n",
      "        nb = nb - 1\n",
      "        chaine = \"+\"+chaine\n",
      "print(nb)\n",
      "print(chaine)\n",
      "        \n",
      "        \n",
      "    \n"
     ],
     "language": "python",
     "metadata": {},
     "outputs": [
      {
       "output_type": "stream",
       "stream": "stdout",
       "text": [
        "ce nombre est impair\n",
        "0.0\n",
        "+x+xxx+x++x+xxx+x++x+xxx+x++++++*+***+*+\n"
       ]
      }
     ],
     "prompt_number": 77
    },
    {
     "cell_type": "code",
     "collapsed": false,
     "input": [
      "dico = open('dico.txt').read().splitlines()"
     ],
     "language": "python",
     "metadata": {},
     "outputs": [],
     "prompt_number": 8
    },
    {
     "cell_type": "code",
     "collapsed": false,
     "input": [
      "compteur = 0\n",
      "for mot in dico:\n",
      "    taille = len(mot)\n",
      "    if \"k\" in mot and mot[taille-1] == \"v\" :\n",
      "        compteur = compteur + 1\n",
      "print(compteur)\n",
      "    "
     ],
     "language": "python",
     "metadata": {},
     "outputs": [
      {
       "output_type": "stream",
       "stream": "stdout",
       "text": [
        "0\n"
       ]
      }
     ],
     "prompt_number": 32
    },
    {
     "cell_type": "code",
     "collapsed": false,
     "input": [
      "import json\n",
      "top = json.load(open('top250.json'))"
     ],
     "language": "python",
     "metadata": {},
     "outputs": [],
     "prompt_number": 34
    },
    {
     "cell_type": "code",
     "collapsed": false,
     "input": [
      "top[1]"
     ],
     "language": "python",
     "metadata": {},
     "outputs": [
      {
       "metadata": {},
       "output_type": "pyout",
       "prompt_number": 71,
       "text": [
        "{'year': '1972',\n",
        " 'director': 'Francis Ford Coppola',\n",
        " 'actors': ['Marlon Brando', 'Al Pacino', 'James Caan'],\n",
        " 'title': 'Le parrain',\n",
        " 'imdb': '0068646'}"
       ]
      }
     ],
     "prompt_number": 71
    },
    {
     "cell_type": "code",
     "collapsed": false,
     "input": [
      "compteur = 0\n",
      "for i in range(10):\n",
      "    print(top[i][\"title\"])\n",
      "    \n"
     ],
     "language": "python",
     "metadata": {},
     "outputs": [
      {
       "output_type": "stream",
       "stream": "stdout",
       "text": [
        "Les \u00e9vad\u00e9s\n",
        "Le parrain\n",
        "Le parrain, 2\u00e8me partie\n",
        "The Dark Knight: Le chevalier noir\n",
        "Pulp Fiction\n",
        "Le bon, la brute et le truand\n",
        "La liste de Schindler\n",
        "12 hommes en col\u00e8re\n",
        "Le seigneur des anneaux: Le retour du roi\n",
        "Fight Club\n"
       ]
      }
     ],
     "prompt_number": 73
    },
    {
     "cell_type": "code",
     "collapsed": false,
     "input": [
      "nb = 0\n",
      "def f(nb):\n",
      "    if(nb%2==0):\n",
      "        return nb//2\n",
      "    else:\n",
      "        return 3 * nb + 1"
     ],
     "language": "python",
     "metadata": {},
     "outputs": [],
     "prompt_number": 6
    },
    {
     "cell_type": "code",
     "collapsed": false,
     "input": [
      "f(5)"
     ],
     "language": "python",
     "metadata": {},
     "outputs": [
      {
       "metadata": {},
       "output_type": "pyout",
       "prompt_number": 77,
       "text": [
        "16"
       ]
      }
     ],
     "prompt_number": 77
    },
    {
     "cell_type": "code",
     "collapsed": false,
     "input": [
      "def f(nbAllumette):\n",
      "    if nbAllumette > 7:\n",
      "        return 3\n",
      "    elif nbAllumette == 7:\n",
      "        return 2\n",
      "    else:\n",
      "        return 1\n",
      "    if nbAllumette == 4:\n",
      "        return 3\n",
      "    elif nbAllumette == 3:\n",
      "        return 2\n",
      "    else:\n",
      "        return 1\n",
      "    \n",
      "    "
     ],
     "language": "python",
     "metadata": {},
     "outputs": [],
     "prompt_number": 30
    },
    {
     "cell_type": "code",
     "collapsed": false,
     "input": [
      "f(2)"
     ],
     "language": "python",
     "metadata": {},
     "outputs": [
      {
       "metadata": {},
       "output_type": "pyout",
       "prompt_number": 31,
       "text": [
        "1"
       ]
      }
     ],
     "prompt_number": 31
    },
    {
     "cell_type": "code",
     "collapsed": false,
     "input": [
      "f(12)"
     ],
     "language": "python",
     "metadata": {},
     "outputs": [
      {
       "metadata": {},
       "output_type": "pyout",
       "prompt_number": 32,
       "text": [
        "9"
       ]
      }
     ],
     "prompt_number": 32
    },
    {
     "cell_type": "code",
     "collapsed": false,
     "input": [],
     "language": "python",
     "metadata": {},
     "outputs": []
    }
   ],
   "metadata": {}
  }
 ]
}