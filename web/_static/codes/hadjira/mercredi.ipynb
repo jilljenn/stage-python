{
 "metadata": {
  "name": "",
  "signature": "sha256:7a47e3190f868dcd6099a937f024b30230d521751c2181172940b7caba4af7f3"
 },
 "nbformat": 3,
 "nbformat_minor": 0,
 "worksheets": [
  {
   "cells": [
    {
     "cell_type": "code",
     "collapsed": false,
     "input": [
      "import turtle\n",
      "tortue = turtle.Turtle()\n",
      "\n",
      "def debut():\n",
      "    gauche()\n",
      "\n",
      "def gauche():\n",
      "    tortue.left(90)\n",
      "    tortue.forward(10)\n",
      "    \n",
      "def droite():\n",
      "    tortue.right(90)\n",
      "    tortue.forward(10)\n",
      "\n",
      "def dessin(chemin):\n",
      "    debut()\n",
      "    for direction in chemin:\n",
      "        if direction == \"d\":\n",
      "            droite()\n",
      "        else:\n",
      "            gauche()\n",
      "\n",
      "dessin(dragon(3))\n"
     ],
     "language": "python",
     "metadata": {},
     "outputs": [
      {
       "ename": "NameError",
       "evalue": "name 'dragon' is not defined",
       "output_type": "pyerr",
       "traceback": [
        "\u001b[1;31m---------------------------------------------------------------------------\u001b[0m\n\u001b[1;31mNameError\u001b[0m                                 Traceback (most recent call last)",
        "\u001b[1;32m<ipython-input-1-85924a1008eb>\u001b[0m in \u001b[0;36m<module>\u001b[1;34m()\u001b[0m\n\u001b[0;32m     21\u001b[0m             \u001b[0mgauche\u001b[0m\u001b[1;33m(\u001b[0m\u001b[1;33m)\u001b[0m\u001b[1;33m\u001b[0m\u001b[0m\n\u001b[0;32m     22\u001b[0m \u001b[1;33m\u001b[0m\u001b[0m\n\u001b[1;32m---> 23\u001b[1;33m \u001b[0mdessin\u001b[0m\u001b[1;33m(\u001b[0m\u001b[0mdragon\u001b[0m\u001b[1;33m(\u001b[0m\u001b[1;36m3\u001b[0m\u001b[1;33m)\u001b[0m\u001b[1;33m)\u001b[0m\u001b[1;33m\u001b[0m\u001b[0m\n\u001b[0m",
        "\u001b[1;31mNameError\u001b[0m: name 'dragon' is not defined"
       ]
      }
     ],
     "prompt_number": 1
    },
    {
     "cell_type": "code",
     "collapsed": false,
     "input": [
      "def inverse(chemin):\n",
      "    chemin_inverse = \"\"\n",
      "    for i in range (len(chemin)):\n",
      "        if chemin[i] == \"g\":\n",
      "            chemin_inverse += \"d\"\n",
      "        elif chemin[i] == \"d\":\n",
      "            chemin_inverse += \"g\"\n",
      "    return chemin_inverse[::-1]\n",
      "        \n",
      "inverse(\"dgg\")"
     ],
     "language": "python",
     "metadata": {},
     "outputs": [
      {
       "metadata": {},
       "output_type": "pyout",
       "prompt_number": 2,
       "text": [
        "'ddg'"
       ]
      }
     ],
     "prompt_number": 2
    },
    {
     "cell_type": "code",
     "collapsed": false,
     "input": [
      "def suivant(chemin):\n",
      "    chemin_suivant = \"\"\n",
      "    chemin_suivant = chemin + \"d\" + inverse(chemin)\n",
      "    return chemin_suivant\n",
      "\n",
      "print(suivant(\"\"))\n",
      "print(suivant(\"d\"))\n",
      "print(suivant(suivant(\"d\")))"
     ],
     "language": "python",
     "metadata": {},
     "outputs": [
      {
       "output_type": "stream",
       "stream": "stdout",
       "text": [
        "d\n",
        "ddg\n",
        "ddgddgg\n"
       ]
      }
     ],
     "prompt_number": 24
    },
    {
     "cell_type": "code",
     "collapsed": false,
     "input": [
      "def dragon(numero):\n",
      "    chemin = \"\"\n",
      "    for i in range(numero):\n",
      "        chemin = suivant(chemin)\n",
      "    return chemin\n",
      "\n",
      "print(dragon(1)) # d\n",
      "print(dragon(5))"
     ],
     "language": "python",
     "metadata": {},
     "outputs": [
      {
       "output_type": "stream",
       "stream": "stdout",
       "text": [
        "d\n",
        "ddgddggdddggdggdddgddgggddggdgg\n"
       ]
      }
     ],
     "prompt_number": 26
    },
    {
     "cell_type": "code",
     "collapsed": false,
     "input": [
      "\"arbre\"[::-1]"
     ],
     "language": "python",
     "metadata": {},
     "outputs": [
      {
       "metadata": {},
       "output_type": "pyout",
       "prompt_number": 22,
       "text": [
        "'erbra'"
       ]
      }
     ],
     "prompt_number": 22
    },
    {
     "cell_type": "code",
     "collapsed": false,
     "input": [],
     "language": "python",
     "metadata": {},
     "outputs": []
    }
   ],
   "metadata": {}
  }
 ]
}